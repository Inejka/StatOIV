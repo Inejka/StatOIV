{
 "cells": [
  {
   "cell_type": "code",
   "execution_count": 3,
   "metadata": {},
   "outputs": [],
   "source": [
    "def process_file(file_opened):\n",
    "    processed_lines = []\n",
    "    for line in file_opened.read().splitlines():\n",
    "        add_line = \"\"\n",
    "        line = line[0:-17]\n",
    "        for words in line.split(\" \"):\n",
    "            temp = words.split(\":\")\n",
    "            word = temp[0]\n",
    "            times = temp[1]\n",
    "            for k in range(0,int(times)):\n",
    "                add_line+=word + \" \"\n",
    "        processed_lines.append(add_line)\n",
    "    return processed_lines"
   ]
  },
  {
   "cell_type": "code",
   "execution_count": 4,
   "metadata": {},
   "outputs": [],
   "source": [
    "import numpy as np\n",
    "\n",
    "positive_rev = process_file(open(\"positive.review\",'r'))\n",
    "kostya1 = np.full(len(positive_rev),\"pos\")\n",
    "negative_rev = process_file(open(\"negative.review\",'r'))\n",
    "kostya2 = np.full(len(negative_rev),\"neg\")\n",
    "X = positive_rev + negative_rev\n",
    "y = list(kostya1) + list(kostya2)"
   ]
  },
  {
   "cell_type": "code",
   "execution_count": 5,
   "metadata": {},
   "outputs": [
    {
     "name": "stdout",
     "output_type": "stream",
     "text": [
      "535 / 660\n"
     ]
    }
   ],
   "source": [
    "from sklearn.model_selection import train_test_split\n",
    "\n",
    "X_train, X_test, y_train, y_test = train_test_split(X, y, \n",
    "                                                    train_size=0.67, \n",
    "                                                    random_state=1)\n",
    "from sklearn.feature_extraction.text import TfidfVectorizer\n",
    "from sklearn.naive_bayes import MultinomialNB\n",
    "from sklearn.pipeline import make_pipeline\n",
    "\n",
    "model = make_pipeline(TfidfVectorizer(), MultinomialNB())\n",
    "model.fit(X_train,y_train)\n",
    "labels = model.predict(X_test)\n",
    "print((np.array(labels)==np.array(y_test)).sum(),'/',len(labels))"
   ]
  },
  {
   "cell_type": "code",
   "execution_count": 6,
   "metadata": {},
   "outputs": [
    {
     "data": {
      "image/png": "[encoded data removed]",
      "text/plain": [
       "<Figure size 432x288 with 1 Axes>"
      ]
     },
     "metadata": {
      "needs_background": "light"
     },
     "output_type": "display_data"
    }
   ],
   "source": [
    "from sklearn.metrics import confusion_matrix\n",
    "import seaborn as sns\n",
    "import matplotlib.pyplot as plt\n",
    "mat = confusion_matrix(y_test, labels)\n",
    "sns.heatmap(mat.T, square=True, annot=True, fmt='d', cbar=False)\n",
    "plt.xlabel('true label')\n",
    "plt.ylabel('predicted label');"
   ]
  }
 ],
 "metadata": {
  "interpreter": {
   "hash": "7776f1ff329964b57ec89fd7b50df89f5f46f2b75cef6f538741f734b9ae8ef9"
  },
  "kernelspec": {
   "display_name": "Python 3.8.0 64-bit",
   "language": "python",
   "name": "python3"
  },
  "language_info": {
   "codemirror_mode": {
    "name": "ipython",
    "version": 3
   },
   "file_extension": ".py",
   "mimetype": "text/x-python",
   "name": "python",
   "nbconvert_exporter": "python",
   "pygments_lexer": "ipython3",
   "version": "3.8.0"
  },
  "orig_nbformat": 4
 },
 "nbformat": 4,
 "nbformat_minor": 2
}
