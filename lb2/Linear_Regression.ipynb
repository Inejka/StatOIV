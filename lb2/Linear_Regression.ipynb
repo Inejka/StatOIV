{
  "cells": [
    {
      "cell_type": "markdown",
      "metadata": {
        "id": "35YbXAgUyBCx"
      },
      "source": [
        "# Linear Regression (Линейная регрессия)"
      ]
    },
    {
      "cell_type": "markdown",
      "metadata": {
        "deletable": true,
        "editable": true,
        "id": "Afp1fR9myBCx"
      },
      "source": [
        "Точно так же, как наивный байесовский подход (обсуждавшийся ранее) является хорошей отправной точкой для задач классификации, модели линейной регрессии являются хорошей отправной точкой для задач регрессии.\n",
        "Такие модели популярны, потому что их можно очень быстро подобрать и легко интерпретировать.\n",
        "Вы, вероятно, знакомы с простейшей формой модели линейной регрессии (т. е. подгонкой прямой линии к данным), но такие модели можно расширить для моделирования более сложного поведения данных.\n",
        "\n",
        "В этом разделе мы начнем с быстрого интуитивного обзора математики, лежащей в основе этой известной проблемы, прежде чем перейти к рассмотрению того, как можно обобщить линейные модели для учета более сложных закономерностей в данных.\n",
        "\n",
        "Начнем со стандартного импорта:"
      ]
    },
    {
      "cell_type": "code",
      "execution_count": null,
      "metadata": {
        "collapsed": true,
        "deletable": true,
        "editable": true,
        "id": "sIidI8KMyBCy"
      },
      "outputs": [],
      "source": [
        "import matplotlib.pyplot as plt\n",
        "import seaborn as sns; sns.set()\n",
        "import numpy as np"
      ]
    },
    {
      "cell_type": "markdown",
      "metadata": {
        "deletable": true,
        "editable": true,
        "id": "MeliNtnmyBCy"
      },
      "source": [
        "## Простая линейная регрессия\n",
        "\n",
        "Мы начнем с наиболее знакомой линейной регрессии, прямолинейной подгонки к данным.\n",
        "Прямой крой – это модель формы\n",
        "$$\n",
        "у = ax + b\n",
        "$$\n",
        "где $a$ обычно называют *наклоном*, а $b$ обычно называют *сдвигом*.\n",
        "\n",
        "Рассмотрим следующие данные, разбросанные по линии с наклоном 2 и точкой пересечения -5:"
      ]
    },
    {
      "cell_type": "code",
      "execution_count": null,
      "metadata": {
        "deletable": true,
        "editable": true,
        "id": "mwGdmUh-yBCz",
        "outputId": "c4744c5d-155c-4b27-92a0-307fd94656cc",
        "colab": {
          "base_uri": "https://localhost:8080/",
          "height": 268
        }
      },
      "outputs": [
        {
          "output_type": "display_data",
          "data": {
            "image/png": "[encoded data removed]",
            "text/plain": [
              "<Figure size 432x288 with 1 Axes>"
            ]
          },
          "metadata": {
            "needs_background": "light"
          }
        }
      ],
      "source": [
        "rng = np.random.RandomState(1)\n",
        "x = 10 * rng.rand(50)\n",
        "y = 2 * x - 5 + rng.randn(50)\n",
        "plt.scatter(x, y);"
      ]
    },
    {
      "cell_type": "markdown",
      "metadata": {
        "deletable": true,
        "editable": true,
        "id": "U26Gm5T3yBC0"
      },
      "source": [
        "Мы можем использовать оценщик Scikit-Learn ``LinearRegression``, чтобы подобрать эти данные и построить наиболее подходящую линию:"
      ]
    },
    {
      "cell_type": "code",
      "execution_count": null,
      "metadata": {
        "deletable": true,
        "editable": true,
        "id": "YBWGsn2gyBC0",
        "outputId": "3c285488-aa2a-4473-ff8f-189c8f670a6a",
        "colab": {
          "base_uri": "https://localhost:8080/",
          "height": 268
        }
      },
      "outputs": [
        {
          "output_type": "display_data",
          "data": {
            "image/png": "[encoded data removed]",
            "text/plain": [
              "<Figure size 432x288 with 1 Axes>"
            ]
          },
          "metadata": {
            "needs_background": "light"
          }
        }
      ],
      "source": [
        "from sklearn.linear_model import LinearRegression\n",
        "model = LinearRegression(fit_intercept=True)\n",
        "\n",
        "model.fit(x[:, np.newaxis], y)\n",
        "\n",
        "xfit = np.linspace(0, 10, 1000)\n",
        "yfit = model.predict(xfit[:, np.newaxis])\n",
        "\n",
        "plt.scatter(x, y)\n",
        "plt.plot(xfit, yfit);"
      ]
    },
    {
      "cell_type": "markdown",
      "metadata": {
        "deletable": true,
        "editable": true,
        "id": "FV8-9gYtyBC1"
      },
      "source": [
        "Наклон и точка пересечения данных содержатся в параметрах подбора модели, которые в Scikit-Learn всегда отмечены завершающим подчеркиванием.\n",
        "Здесь соответствующими параметрами являются ``coef_`` и ``intercept_``:"
      ]
    },
    {
      "cell_type": "code",
      "execution_count": null,
      "metadata": {
        "deletable": true,
        "editable": true,
        "id": "fPscfAi8yBC1",
        "outputId": "4a87e602-2dbd-442b-d452-1f2f25d4d800",
        "colab": {
          "base_uri": "https://localhost:8080/"
        }
      },
      "outputs": [
        {
          "output_type": "stream",
          "name": "stdout",
          "text": [
            "Model slope:     2.0272088103606953\n",
            "Model intercept: -4.998577085553204\n"
          ]
        }
      ],
      "source": [
        "print(\"Model slope:    \", model.coef_[0])\n",
        "print(\"Model intercept:\", model.intercept_)"
      ]
    },
    {
      "cell_type": "markdown",
      "metadata": {
        "deletable": true,
        "editable": true,
        "id": "IpBYy6D3yBC1"
      },
      "source": [
        "We see that the results are very close to the inputs, as we might hope."
      ]
    },
    {
      "cell_type": "markdown",
      "metadata": {
        "deletable": true,
        "editable": true,
        "id": "hVvBjCK2yBC1"
      },
      "source": [
        "Однако оценщик ``LinearRegression`` обладает гораздо большими возможностями — в дополнение к простой подгонке по прямой, он также может обрабатывать многомерные линейные модели формы\n",
        "$$\n",
        "у = а_0 + а_1 х_1 + а_2 х_2 + \\cdots\n",
        "$$\n",
        "где есть несколько значений $x$.\n",
        "Геометрически это похоже на подгонку плоскости к точкам в трех измерениях или подгонку гиперплоскости к точкам в более высоких измерениях.\n",
        "\n",
        "Многомерный характер таких регрессий затрудняет их визуализацию, но мы можем увидеть одно из этих совпадений в действии, создав некоторые примеры данных, используя оператор умножения матриц NumPy:"
      ]
    },
    {
      "cell_type": "code",
      "execution_count": null,
      "metadata": {
        "deletable": true,
        "editable": true,
        "id": "C1_hUZGhyBC2",
        "outputId": "31fa11f6-cc8b-4fe4-a49d-88a7fa1d6711",
        "colab": {
          "base_uri": "https://localhost:8080/"
        }
      },
      "outputs": [
        {
          "output_type": "stream",
          "name": "stdout",
          "text": [
            "0.5000000000000051\n",
            "[ 1.5 -2.   1. ]\n"
          ]
        }
      ],
      "source": [
        "rng = np.random.RandomState(1)\n",
        "X = 10 * rng.rand(100, 3)\n",
        "y = 0.5 + np.dot(X, [1.5, -2., 1.])\n",
        "\n",
        "model.fit(X, y)\n",
        "print(model.intercept_)\n",
        "print(model.coef_)"
      ]
    },
    {
      "cell_type": "markdown",
      "metadata": {
        "deletable": true,
        "editable": true,
        "id": "hAYzgVrnyBC2"
      },
      "source": [
        "Здесь данные $y$ строятся из трех случайных значений $x$, а линейная регрессия восстанавливает коэффициенты, использованные для построения данных.\n",
        "\n",
        "Таким образом, мы можем использовать единую оценку LinearRegression для подгонки линий, плоскостей или гиперплоскостей к нашим данным.\n",
        "По-прежнему кажется, что этот подход будет ограничен строго линейными отношениями между переменными, но оказывается, что мы можем и это ослабить."
      ]
    },
    {
      "cell_type": "markdown",
      "metadata": {
        "deletable": true,
        "editable": true,
        "id": "rWZOQyy0yBC2"
      },
      "source": [
        "## Регрессия базовой функции\n",
        "\n",
        "Один прием, который вы можете использовать для адаптации линейной регрессии к нелинейным отношениям между переменными, заключается в преобразовании данных в соответствии с *базисными функциями*.\n",
        "\n",
        "Идея состоит в том, чтобы взять нашу многомерную линейную модель:\n",
        "$$\n",
        "у = а_0 + а_1 х_1 + а_2 х_2 + а_3 х_3 + \\cdots\n",
        "$$\n",
        "и создайте $x_1, x_2, x_3,$ и так далее из нашего одномерного ввода $x$.\n",
        "То есть мы допускаем $x_n = f_n(x)$, где $f_n()$ — некоторая функция, преобразующая наши данные.\n",
        "\n",
        "Например, если $f_n(x) = x^n$, наша модель становится полиномиальной регрессией:\n",
        "$$\n",
        "у = а_0 + а_1 х + а_2 х ^ 2 + а_3 х ^ 3 + \\cdots\n",
        "$$\n",
        "Обратите внимание, что это *по-прежнему линейная модель* — линейность относится к тому факту, что коэффициенты $a_n$ никогда не умножаются и не делятся друг на друга.\n",
        "Что мы действительно сделали, так это взяли наши одномерные значения $x$ и спроецировали их в более высокое измерение, так что линейная подгонка может соответствовать более сложным отношениям между $x$ и $y$."
      ]
    },
    {
      "cell_type": "markdown",
      "metadata": {
        "deletable": true,
        "editable": true,
        "id": "CNp5NMcpyBC2"
      },
      "source": [
        "### Полиномиальные базисные функции\n",
        "\n",
        "Эта полиномиальная проекция настолько полезна, что встроена в Scikit-Learn с помощью преобразователя «PolynomialFeatures»:"
      ]
    },
    {
      "cell_type": "code",
      "execution_count": null,
      "metadata": {
        "deletable": true,
        "editable": true,
        "id": "Qpflb9JEyBC2",
        "outputId": "767757e3-db4c-4963-e63e-aa1aea3a3b91",
        "colab": {
          "base_uri": "https://localhost:8080/"
        }
      },
      "outputs": [
        {
          "output_type": "execute_result",
          "data": {
            "text/plain": [
              "array([[ 2.,  4.,  8.],\n",
              "       [ 3.,  9., 27.],\n",
              "       [ 4., 16., 64.]])"
            ]
          },
          "metadata": {},
          "execution_count": 6
        }
      ],
      "source": [
        "from sklearn.preprocessing import PolynomialFeatures\n",
        "x = np.array([2, 3, 4])\n",
        "poly = PolynomialFeatures(3, include_bias=False)\n",
        "poly.fit_transform(x[:, None])"
      ]
    },
    {
      "cell_type": "markdown",
      "metadata": {
        "deletable": true,
        "editable": true,
        "id": "CptvuaAKyBC3"
      },
      "source": [
        "Здесь мы видим, что преобразователь преобразовал наш одномерный массив в трехмерный, взяв показатель степени каждого значения.\n",
        "Затем это новое многомерное представление данных можно включить в линейную регрессию.\n",
        "\n",
        "Самый простой способ добиться этого — использовать конвейер.\n",
        "Создадим полиномиальную модель 7-й степени следующим образом:"
      ]
    },
    {
      "cell_type": "code",
      "execution_count": null,
      "metadata": {
        "collapsed": true,
        "deletable": true,
        "editable": true,
        "id": "fDXQprqKyBC3"
      },
      "outputs": [],
      "source": [
        "from sklearn.pipeline import make_pipeline\n",
        "poly_model = make_pipeline(PolynomialFeatures(7),\n",
        "                           LinearRegression())"
      ]
    },
    {
      "cell_type": "markdown",
      "metadata": {
        "deletable": true,
        "editable": true,
        "id": "B65vVRHjyBC3"
      },
      "source": [
        "Имея это преобразование, мы можем использовать линейную модель для соответствия гораздо более сложным отношениям между $x$ и $y$.\n",
        "Например, вот синусоида с шумом:"
      ]
    },
    {
      "cell_type": "code",
      "execution_count": null,
      "metadata": {
        "deletable": true,
        "editable": true,
        "id": "UBgEsBoSyBC3",
        "outputId": "ef593d33-e97a-4fd3-ed5d-99421d2cc62d",
        "colab": {
          "base_uri": "https://localhost:8080/",
          "height": 268
        }
      },
      "outputs": [
        {
          "output_type": "display_data",
          "data": {
            "image/png": "[encoded data removed]",
            "text/plain": [
              "<Figure size 432x288 with 1 Axes>"
            ]
          },
          "metadata": {
            "needs_background": "light"
          }
        }
      ],
      "source": [
        "rng = np.random.RandomState(1)\n",
        "x = 10 * rng.rand(50)\n",
        "y = np.sin(x) + 0.1 * rng.randn(50)\n",
        "\n",
        "poly_model.fit(x[:, np.newaxis], y)\n",
        "yfit = poly_model.predict(xfit[:, np.newaxis])\n",
        "\n",
        "plt.scatter(x, y)\n",
        "plt.plot(xfit, yfit);"
      ]
    },
    {
      "cell_type": "markdown",
      "metadata": {
        "deletable": true,
        "editable": true,
        "id": "RnWc1tLVyBC3"
      },
      "source": [
        "Наша линейная модель с использованием полиномиальных базисных функций 7-го порядка может обеспечить отличное соответствие этим нелинейным данным!"
      ]
    },
    {
      "cell_type": "markdown",
      "metadata": {
        "deletable": true,
        "editable": true,
        "id": "IaYZAFYfyBC3"
      },
      "source": [
        "### Базисные функции Гаусса\n",
        "\n",
        "Конечно, возможны и другие базисные функции.\n",
        "Например, одним из полезных шаблонов является подбор модели, которая представляет собой не сумму оснований полиномов, а сумму оснований Гаусса.\n",
        "Результат может выглядеть примерно так, как показано на следующем рисунке:"
      ]
    },
    {
      "cell_type": "markdown",
      "metadata": {
        "deletable": true,
        "editable": true,
        "id": "Bz_Sj1ARyBC3"
      },
      "source": [
        "![](https://github.com/jakevdp/PythonDataScienceHandbook/blob/master/notebooks/figures/05.06-gaussian-basis.png?raw=1)\n"
      ]
    },
    {
      "cell_type": "markdown",
      "metadata": {
        "deletable": true,
        "editable": true,
        "id": "uXbi8kU-yBC4"
      },
      "source": [
        "Заштрихованные области на графике представляют собой масштабированные базисные функции, и при суммировании они воспроизводят гладкую кривую по данным.\n",
        "Эти базисные функции Гаусса не встроены в Scikit-Learn, но мы можем написать собственный преобразователь, который создаст их, как показано здесь и показано на следующем рисунке (преобразователи Scikit-Learn реализованы как классы Python; чтение исходного кода Scikit-Learn хороший способ увидеть, как они могут быть созданы):"
      ]
    },
    {
      "cell_type": "code",
      "execution_count": null,
      "metadata": {
        "deletable": true,
        "editable": true,
        "id": "HtxdUg9xyBC4",
        "outputId": "6092a531-872a-414a-f721-928325e9f7d2",
        "colab": {
          "base_uri": "https://localhost:8080/",
          "height": 268
        }
      },
      "outputs": [
        {
          "output_type": "display_data",
          "data": {
            "image/png": "[encoded data removed]",
            "text/plain": [
              "<Figure size 432x288 with 1 Axes>"
            ]
          },
          "metadata": {
            "needs_background": "light"
          }
        }
      ],
      "source": [
        "from sklearn.base import BaseEstimator, TransformerMixin\n",
        "\n",
        "class GaussianFeatures(BaseEstimator, TransformerMixin):\n",
        "    \"\"\"Uniformly spaced Gaussian features for one-dimensional input\"\"\"\n",
        "    \n",
        "    def __init__(self, N, width_factor=2.0):\n",
        "        self.N = N\n",
        "        self.width_factor = width_factor\n",
        "    \n",
        "    @staticmethod\n",
        "    def _gauss_basis(x, y, width, axis=None):\n",
        "        arg = (x - y) / width\n",
        "        return np.exp(-0.5 * np.sum(arg ** 2, axis))\n",
        "        \n",
        "    def fit(self, X, y=None):\n",
        "        # create N centers spread along the data range\n",
        "        self.centers_ = np.linspace(X.min(), X.max(), self.N)\n",
        "        self.width_ = self.width_factor * (self.centers_[1] - self.centers_[0])\n",
        "        return self\n",
        "        \n",
        "    def transform(self, X):\n",
        "        return self._gauss_basis(X[:, :, np.newaxis], self.centers_,\n",
        "                                 self.width_, axis=1)\n",
        "    \n",
        "gauss_model = make_pipeline(GaussianFeatures(20),\n",
        "                            LinearRegression())\n",
        "gauss_model.fit(x[:, np.newaxis], y)\n",
        "yfit = gauss_model.predict(xfit[:, np.newaxis])\n",
        "\n",
        "plt.scatter(x, y)\n",
        "plt.plot(xfit, yfit)\n",
        "plt.xlim(0, 10);"
      ]
    },
    {
      "cell_type": "markdown",
      "metadata": {
        "deletable": true,
        "editable": true,
        "id": "2lLDtAbeyBC4"
      },
      "source": [
        "Мы приводим этот пример здесь только для того, чтобы прояснить, что в полиномиальных базисных функциях нет ничего волшебного: если у вас есть какая-то интуиция в процессе генерации ваших данных, которая заставляет вас думать, что тот или иной базис может быть уместным, вы можете использовать иx."
      ]
    },
    {
      "cell_type": "markdown",
      "metadata": {
        "deletable": true,
        "editable": true,
        "id": "1kEeam1zyBC5"
      },
      "source": [
        "## Пример: прогнозирование движения велосипедистов"
      ]
    },
    {
      "cell_type": "markdown",
      "metadata": {
        "collapsed": true,
        "deletable": true,
        "editable": true,
        "id": "wYAUJVgMyBC5"
      },
      "source": [
        "В качестве примера давайте посмотрим, можем ли мы предсказать количество поездок на велосипеде по мосту Фремонт в Сиэтле, исходя из погоды, времени года и других факторов.\n",
        "\n",
        "В этом разделе мы объединим данные о велосипедах с другим набором данных и попытаемся определить, в какой степени погодные и сезонные факторы — температура, осадки и световой день — влияют на объем велосипедного движения по этому коридору.\n",
        "К счастью, NOAA предоставляет свои ежедневные (я использовал идентификатор станции USW00024233), и мы можем легко использовать Pandas для объединить два источника данных.\n",
        "Мы выполним простую линейную регрессию, чтобы связать информацию о погоде и другую информацию с количеством велосипедов, чтобы оценить, как изменение любого из этих параметров влияет на количество гонщиков в данный день.\n",
        "\n",
        "В частности, это пример того, как инструменты Scikit-Learn можно использовать в структуре статистического моделирования, в которой предполагается, что параметры модели имеют интерпретируемое значение.\n",
        "Как обсуждалось ранее, это не стандартный подход в машинном обучении, но такая интерпретация возможна для некоторых моделей.\n",
        "\n",
        "Начнем с загрузки двух наборов данных, индексируя их по дате:"
      ]
    },
    {
      "cell_type": "code",
      "execution_count": null,
      "metadata": {
        "collapsed": true,
        "deletable": true,
        "editable": true,
        "id": "54igpD7XyBC5",
        "colab": {
          "base_uri": "https://localhost:8080/"
        },
        "outputId": "868a1fa4-1907-4e70-ca10-c47cc4de0dc8"
      },
      "outputs": [
        {
          "output_type": "stream",
          "name": "stdout",
          "text": [
            "  % Total    % Received % Xferd  Average Speed   Time    Time     Time  Current\n",
            "                                 Dload  Upload   Total   Spent    Left  Speed\n",
            "100 4607k    0 4607k    0     0  1384k      0 --:--:--  0:00:03 --:--:-- 1384k\n"
          ]
        }
      ],
      "source": [
        "!curl -o FremontBridge.csv https://data.seattle.gov/api/views/65db-xm6k/rows.csv?accessType=DOWNLOAD"
      ]
    },
    {
      "cell_type": "code",
      "source": [
        "!curl -o BicycleWeather.csv https://raw.githubusercontent.com/yayanshlyahov/bsuir_labs_ml/main/2848341.csv"
      ],
      "metadata": {
        "colab": {
          "base_uri": "https://localhost:8080/"
        },
        "id": "enr0hj0L222p",
        "outputId": "5785f40e-7a4b-4905-ba14-b1b004ea9fe4"
      },
      "execution_count": null,
      "outputs": [
        {
          "output_type": "stream",
          "name": "stdout",
          "text": [
            "  % Total    % Received % Xferd  Average Speed   Time    Time     Time  Current\n",
            "                                 Dload  Upload   Total   Spent    Left  Speed\n",
            "100 1566k  100 1566k    0     0  7603k      0 --:--:-- --:--:-- --:--:-- 7603k\n"
          ]
        }
      ]
    },
    {
      "cell_type": "code",
      "execution_count": null,
      "metadata": {
        "deletable": true,
        "editable": true,
        "id": "kBosHcLPyBC6"
      },
      "outputs": [],
      "source": [
        "import pandas as pd\n",
        "counts = pd.read_csv('FremontBridge.csv', index_col='Date', parse_dates=True)\n",
        "weather = pd.read_csv('BicycleWeather.csv', index_col='DATE', parse_dates=True)"
      ]
    },
    {
      "cell_type": "markdown",
      "metadata": {
        "deletable": true,
        "editable": true,
        "id": "EwmSToTyyBC6"
      },
      "source": [
        "Далее мы вычислим общий ежедневный велосипедный трафик и поместим его в собственный фрейм данных:"
      ]
    },
    {
      "cell_type": "code",
      "execution_count": null,
      "metadata": {
        "deletable": true,
        "editable": true,
        "id": "xpK-8O9IyBC6"
      },
      "outputs": [],
      "source": [
        "daily = counts.resample('d').sum()\n",
        "daily['Total'] = daily.sum(axis=1)\n",
        "daily = daily[['Total']] # remove other columns"
      ]
    },
    {
      "cell_type": "markdown",
      "metadata": {
        "deletable": true,
        "editable": true,
        "id": "sKrLSqkGyBC6"
      },
      "source": [
        "Ранее мы видели, что модели употребления обычно меняются изо дня в день; давайте учтем это в наших данных, добавив двоичные столбцы, указывающие день недели:"
      ]
    },
    {
      "cell_type": "code",
      "execution_count": null,
      "metadata": {
        "collapsed": true,
        "deletable": true,
        "editable": true,
        "id": "Dvwb9qXTyBC6"
      },
      "outputs": [],
      "source": [
        "days = ['Mon', 'Tue', 'Wed', 'Thu', 'Fri', 'Sat', 'Sun']\n",
        "for i in range(7):\n",
        "    daily[days[i]] = (daily.index.dayofweek == i).astype(float)"
      ]
    },
    {
      "cell_type": "markdown",
      "metadata": {
        "deletable": true,
        "editable": true,
        "id": "dO-PrFbGyBC6"
      },
      "source": [
        "Точно так же мы можем ожидать, что водители будут вести себя по-другому в праздничные дни; давайте также добавим индикатор этого:"
      ]
    },
    {
      "cell_type": "code",
      "execution_count": null,
      "metadata": {
        "deletable": true,
        "editable": true,
        "id": "ULgMUENkyBC6"
      },
      "outputs": [],
      "source": [
        "from pandas.tseries.holiday import USFederalHolidayCalendar\n",
        "cal = USFederalHolidayCalendar()\n",
        "holidays = cal.holidays('2012', '2016')\n",
        "daily = daily.join(pd.Series(1, index=holidays, name='holiday'))\n",
        "daily['holiday'].fillna(0, inplace=True)"
      ]
    },
    {
      "cell_type": "markdown",
      "metadata": {
        "deletable": true,
        "editable": true,
        "id": "FkVP_eg8yBC6"
      },
      "source": [
        "Мы также можем предположить, что количество часов дневного света повлияет на то, сколько людей едут; давайте воспользуемся стандартным астрономическим расчетом, чтобы добавить эту информацию:"
      ]
    },
    {
      "cell_type": "code",
      "execution_count": null,
      "metadata": {
        "deletable": true,
        "editable": true,
        "id": "H85TkTDRyBC6",
        "outputId": "bd812fbb-832c-4d76-f32e-d20f311b7821",
        "colab": {
          "base_uri": "https://localhost:8080/",
          "height": 361
        }
      },
      "outputs": [
        {
          "output_type": "stream",
          "name": "stderr",
          "text": [
            "/usr/local/lib/python3.7/dist-packages/ipykernel_launcher.py:3: FutureWarning: The pandas.datetime class is deprecated and will be removed from pandas in a future version. Import from datetime module instead.\n",
            "  This is separate from the ipykernel package so we can avoid doing imports until\n"
          ]
        },
        {
          "output_type": "execute_result",
          "data": {
            "text/plain": [
              "(8.0, 17.0)"
            ]
          },
          "metadata": {},
          "execution_count": 16
        },
        {
          "output_type": "display_data",
          "data": {
            "image/png": "[encoded data removed]",
            "text/plain": [
              "<Figure size 432x288 with 1 Axes>"
            ]
          },
          "metadata": {
            "needs_background": "light"
          }
        }
      ],
      "source": [
        "def hours_of_daylight(date, axis=23.44, latitude=47.61):\n",
        "    \"\"\"Compute the hours of daylight for the given date\"\"\"\n",
        "    days = (date - pd.datetime(2000, 12, 21)).days\n",
        "    m = (1. - np.tan(np.radians(latitude))\n",
        "         * np.tan(np.radians(axis) * np.cos(days * 2 * np.pi / 365.25)))\n",
        "    return 24. * np.degrees(np.arccos(1 - np.clip(m, 0, 2))) / 180.\n",
        "\n",
        "daily['daylight_hrs'] = list(map(hours_of_daylight, daily.index))\n",
        "daily[['daylight_hrs']].plot()\n",
        "plt.ylim(8, 17)"
      ]
    },
    {
      "cell_type": "markdown",
      "metadata": {
        "deletable": true,
        "editable": true,
        "id": "c3Wax35PyBC6"
      },
      "source": [
        "Мы также можем добавить к данным среднюю температуру и общее количество осадков.\n",
        "В дополнение к дюймам осадков давайте добавим флаг, указывающий, является ли день сухим (нет ли осадков):"
      ]
    },
    {
      "cell_type": "code",
      "execution_count": null,
      "metadata": {
        "deletable": true,
        "editable": true,
        "id": "Vaj1Ki0CyBC6"
      },
      "outputs": [],
      "source": [
        "# temperatures are in 1/10 deg C; convert to C\n",
        "weather['TMIN'] /= 10\n",
        "weather['TMAX'] /= 10\n",
        "weather['Temp (C)'] = 0.5 * (weather['TMIN'] + weather['TMAX'])\n",
        "\n",
        "# precip is in 1/10 mm; convert to inches\n",
        "weather['PRCP'] /= 254\n",
        "weather['dry day'] = (weather['PRCP'] == 0).astype(int)\n",
        "\n",
        "daily = daily.join(weather[['PRCP', 'Temp (C)', 'dry day']])"
      ]
    },
    {
      "cell_type": "markdown",
      "metadata": {
        "deletable": true,
        "editable": true,
        "id": "yvvnyRylyBC6"
      },
      "source": [
        "Наконец, давайте добавим счетчик, который увеличивается с первого дня и измеряет, сколько лет прошло.\n",
        "Это позволит нам измерить любое наблюдаемое ежегодное увеличение или уменьшение количества ежедневных пересечений:"
      ]
    },
    {
      "cell_type": "code",
      "execution_count": null,
      "metadata": {
        "deletable": true,
        "editable": true,
        "id": "qbaQbsqKyBC7"
      },
      "outputs": [],
      "source": [
        "daily['annual'] = (daily.index - daily.index[0]).days / 365."
      ]
    },
    {
      "cell_type": "markdown",
      "metadata": {
        "deletable": true,
        "editable": true,
        "id": "BcplNntmyBC7"
      },
      "source": [
        "Теперь наши данные в порядке, и мы можем взглянуть на них:"
      ]
    },
    {
      "cell_type": "code",
      "execution_count": null,
      "metadata": {
        "deletable": true,
        "editable": true,
        "id": "7_qo1wyCyBC7",
        "outputId": "98ad274c-3960-4f07-dd38-706f05676608",
        "colab": {
          "base_uri": "https://localhost:8080/",
          "height": 238
        }
      },
      "outputs": [
        {
          "output_type": "execute_result",
          "data": {
            "text/html": [
              "\n",
              "  <div id=\"df-407a642d-2e56-452a-bde2-257b01ba32ff\">\n",
              "    <div class=\"colab-df-container\">\n",
              "      <div>\n",
              "<style scoped>\n",
              "    .dataframe tbody tr th:only-of-type {\n",
              "        vertical-align: middle;\n",
              "    }\n",
              "\n",
              "    .dataframe tbody tr th {\n",
              "        vertical-align: top;\n",
              "    }\n",
              "\n",
              "    .dataframe thead th {\n",
              "        text-align: right;\n",
              "    }\n",
              "</style>\n",
              "<table border=\"1\" class=\"dataframe\">\n",
              "  <thead>\n",
              "    <tr style=\"text-align: right;\">\n",
              "      <th></th>\n",
              "      <th>Total</th>\n",
              "      <th>Mon</th>\n",
              "      <th>Tue</th>\n",
              "      <th>Wed</th>\n",
              "      <th>Thu</th>\n",
              "      <th>Fri</th>\n",
              "      <th>Sat</th>\n",
              "      <th>Sun</th>\n",
              "      <th>holiday</th>\n",
              "      <th>daylight_hrs</th>\n",
              "      <th>PRCP</th>\n",
              "      <th>Temp (C)</th>\n",
              "      <th>dry day</th>\n",
              "      <th>annual</th>\n",
              "    </tr>\n",
              "    <tr>\n",
              "      <th>Date</th>\n",
              "      <th></th>\n",
              "      <th></th>\n",
              "      <th></th>\n",
              "      <th></th>\n",
              "      <th></th>\n",
              "      <th></th>\n",
              "      <th></th>\n",
              "      <th></th>\n",
              "      <th></th>\n",
              "      <th></th>\n",
              "      <th></th>\n",
              "      <th></th>\n",
              "      <th></th>\n",
              "      <th></th>\n",
              "    </tr>\n",
              "  </thead>\n",
              "  <tbody>\n",
              "    <tr>\n",
              "      <th>2012-10-03</th>\n",
              "      <td>14084.0</td>\n",
              "      <td>0.0</td>\n",
              "      <td>0.0</td>\n",
              "      <td>1.0</td>\n",
              "      <td>0.0</td>\n",
              "      <td>0.0</td>\n",
              "      <td>0.0</td>\n",
              "      <td>0.0</td>\n",
              "      <td>0.0</td>\n",
              "      <td>11.277359</td>\n",
              "      <td>0.0</td>\n",
              "      <td>5.60</td>\n",
              "      <td>1</td>\n",
              "      <td>0.000000</td>\n",
              "    </tr>\n",
              "    <tr>\n",
              "      <th>2012-10-04</th>\n",
              "      <td>13900.0</td>\n",
              "      <td>0.0</td>\n",
              "      <td>0.0</td>\n",
              "      <td>0.0</td>\n",
              "      <td>1.0</td>\n",
              "      <td>0.0</td>\n",
              "      <td>0.0</td>\n",
              "      <td>0.0</td>\n",
              "      <td>0.0</td>\n",
              "      <td>11.219142</td>\n",
              "      <td>0.0</td>\n",
              "      <td>5.65</td>\n",
              "      <td>1</td>\n",
              "      <td>0.002740</td>\n",
              "    </tr>\n",
              "    <tr>\n",
              "      <th>2012-10-05</th>\n",
              "      <td>12592.0</td>\n",
              "      <td>0.0</td>\n",
              "      <td>0.0</td>\n",
              "      <td>0.0</td>\n",
              "      <td>0.0</td>\n",
              "      <td>1.0</td>\n",
              "      <td>0.0</td>\n",
              "      <td>0.0</td>\n",
              "      <td>0.0</td>\n",
              "      <td>11.161038</td>\n",
              "      <td>0.0</td>\n",
              "      <td>5.95</td>\n",
              "      <td>1</td>\n",
              "      <td>0.005479</td>\n",
              "    </tr>\n",
              "    <tr>\n",
              "      <th>2012-10-06</th>\n",
              "      <td>8024.0</td>\n",
              "      <td>0.0</td>\n",
              "      <td>0.0</td>\n",
              "      <td>0.0</td>\n",
              "      <td>0.0</td>\n",
              "      <td>0.0</td>\n",
              "      <td>1.0</td>\n",
              "      <td>0.0</td>\n",
              "      <td>0.0</td>\n",
              "      <td>11.103056</td>\n",
              "      <td>0.0</td>\n",
              "      <td>6.05</td>\n",
              "      <td>1</td>\n",
              "      <td>0.008219</td>\n",
              "    </tr>\n",
              "    <tr>\n",
              "      <th>2012-10-07</th>\n",
              "      <td>8568.0</td>\n",
              "      <td>0.0</td>\n",
              "      <td>0.0</td>\n",
              "      <td>0.0</td>\n",
              "      <td>0.0</td>\n",
              "      <td>0.0</td>\n",
              "      <td>0.0</td>\n",
              "      <td>1.0</td>\n",
              "      <td>0.0</td>\n",
              "      <td>11.045208</td>\n",
              "      <td>0.0</td>\n",
              "      <td>6.05</td>\n",
              "      <td>1</td>\n",
              "      <td>0.010959</td>\n",
              "    </tr>\n",
              "  </tbody>\n",
              "</table>\n",
              "</div>\n",
              "      <button class=\"colab-df-convert\" onclick=\"convertToInteractive('df-407a642d-2e56-452a-bde2-257b01ba32ff')\"\n",
              "              title=\"Convert this dataframe to an interactive table.\"\n",
              "              style=\"display:none;\">\n",
              "        \n",
              "  <svg xmlns=\"http://www.w3.org/2000/svg\" height=\"24px\"viewBox=\"0 0 24 24\"\n",
              "       width=\"24px\">\n",
              "    <path d=\"M0 0h24v24H0V0z\" fill=\"none\"/>\n",
              "    <path d=\"M18.56 5.44l.94 2.06.94-2.06 2.06-.94-2.06-.94-.94-2.06-.94 2.06-2.06.94zm-11 1L8.5 8.5l.94-2.06 2.06-.94-2.06-.94L8.5 2.5l-.94 2.06-2.06.94zm10 10l.94 2.06.94-2.06 2.06-.94-2.06-.94-.94-2.06-.94 2.06-2.06.94z\"/><path d=\"M17.41 7.96l-1.37-1.37c-.4-.4-.92-.59-1.43-.59-.52 0-1.04.2-1.43.59L10.3 9.45l-7.72 7.72c-.78.78-.78 2.05 0 2.83L4 21.41c.39.39.9.59 1.41.59.51 0 1.02-.2 1.41-.59l7.78-7.78 2.81-2.81c.8-.78.8-2.07 0-2.86zM5.41 20L4 18.59l7.72-7.72 1.47 1.35L5.41 20z\"/>\n",
              "  </svg>\n",
              "      </button>\n",
              "      \n",
              "  <style>\n",
              "    .colab-df-container {\n",
              "      display:flex;\n",
              "      flex-wrap:wrap;\n",
              "      gap: 12px;\n",
              "    }\n",
              "\n",
              "    .colab-df-convert {\n",
              "      background-color: #E8F0FE;\n",
              "      border: none;\n",
              "      border-radius: 50%;\n",
              "      cursor: pointer;\n",
              "      display: none;\n",
              "      fill: #1967D2;\n",
              "      height: 32px;\n",
              "      padding: 0 0 0 0;\n",
              "      width: 32px;\n",
              "    }\n",
              "\n",
              "    .colab-df-convert:hover {\n",
              "      background-color: #E2EBFA;\n",
              "      box-shadow: 0px 1px 2px rgba(60, 64, 67, 0.3), 0px 1px 3px 1px rgba(60, 64, 67, 0.15);\n",
              "      fill: #174EA6;\n",
              "    }\n",
              "\n",
              "    [theme=dark] .colab-df-convert {\n",
              "      background-color: #3B4455;\n",
              "      fill: #D2E3FC;\n",
              "    }\n",
              "\n",
              "    [theme=dark] .colab-df-convert:hover {\n",
              "      background-color: #434B5C;\n",
              "      box-shadow: 0px 1px 3px 1px rgba(0, 0, 0, 0.15);\n",
              "      filter: drop-shadow(0px 1px 2px rgba(0, 0, 0, 0.3));\n",
              "      fill: #FFFFFF;\n",
              "    }\n",
              "  </style>\n",
              "\n",
              "      <script>\n",
              "        const buttonEl =\n",
              "          document.querySelector('#df-407a642d-2e56-452a-bde2-257b01ba32ff button.colab-df-convert');\n",
              "        buttonEl.style.display =\n",
              "          google.colab.kernel.accessAllowed ? 'block' : 'none';\n",
              "\n",
              "        async function convertToInteractive(key) {\n",
              "          const element = document.querySelector('#df-407a642d-2e56-452a-bde2-257b01ba32ff');\n",
              "          const dataTable =\n",
              "            await google.colab.kernel.invokeFunction('convertToInteractive',\n",
              "                                                     [key], {});\n",
              "          if (!dataTable) return;\n",
              "\n",
              "          const docLinkHtml = 'Like what you see? Visit the ' +\n",
              "            '<a target=\"_blank\" href=https://colab.research.google.com/notebooks/data_table.ipynb>data table notebook</a>'\n",
              "            + ' to learn more about interactive tables.';\n",
              "          element.innerHTML = '';\n",
              "          dataTable['output_type'] = 'display_data';\n",
              "          await google.colab.output.renderOutput(dataTable, element);\n",
              "          const docLink = document.createElement('div');\n",
              "          docLink.innerHTML = docLinkHtml;\n",
              "          element.appendChild(docLink);\n",
              "        }\n",
              "      </script>\n",
              "    </div>\n",
              "  </div>\n",
              "  "
            ],
            "text/plain": [
              "              Total  Mon  Tue  Wed  ...  PRCP  Temp (C)  dry day    annual\n",
              "Date                                ...                                   \n",
              "2012-10-03  14084.0  0.0  0.0  1.0  ...   0.0      5.60        1  0.000000\n",
              "2012-10-04  13900.0  0.0  0.0  0.0  ...   0.0      5.65        1  0.002740\n",
              "2012-10-05  12592.0  0.0  0.0  0.0  ...   0.0      5.95        1  0.005479\n",
              "2012-10-06   8024.0  0.0  0.0  0.0  ...   0.0      6.05        1  0.008219\n",
              "2012-10-07   8568.0  0.0  0.0  0.0  ...   0.0      6.05        1  0.010959\n",
              "\n",
              "[5 rows x 14 columns]"
            ]
          },
          "metadata": {},
          "execution_count": 22
        }
      ],
      "source": [
        "daily.head()"
      ]
    },
    {
      "cell_type": "markdown",
      "metadata": {
        "deletable": true,
        "editable": true,
        "id": "Z1w-rJpzyBC7"
      },
      "source": [
        "Имея это на месте, мы можем выбрать столбцы для использования и подогнать модель линейной регрессии к нашим данным.\n",
        "Мы установим ``fit_intercept = False``, потому что ежедневные флаги по сути работают как их собственные перехваты для конкретного дня:"
      ]
    },
    {
      "cell_type": "code",
      "execution_count": null,
      "metadata": {
        "deletable": true,
        "editable": true,
        "id": "UaCkcPG-yBC7"
      },
      "outputs": [],
      "source": [
        "# Drop any rows with null values\n",
        "daily.dropna(axis=0, how='any', inplace=True)\n",
        "\n",
        "column_names = ['Mon', 'Tue', 'Wed', 'Thu', 'Fri', 'Sat', 'Sun', 'holiday',\n",
        "                'daylight_hrs', 'PRCP', 'dry day', 'Temp (C)', 'annual']\n",
        "X = daily[column_names]\n",
        "y = daily['Total']\n",
        "\n",
        "model = LinearRegression(fit_intercept=False)\n",
        "model.fit(X, y)\n",
        "daily['predicted'] = model.predict(X)"
      ]
    },
    {
      "cell_type": "markdown",
      "metadata": {
        "deletable": true,
        "editable": true,
        "id": "ZHIM1K3PyBC7"
      },
      "source": [
        "Наконец, мы можем визуально сравнить общий и прогнозируемый велосипедный трафик:"
      ]
    },
    {
      "cell_type": "code",
      "execution_count": null,
      "metadata": {
        "deletable": true,
        "editable": true,
        "id": "XICnB83pyBC7",
        "outputId": "73818c44-155a-493f-93f5-9238c88639fe",
        "colab": {
          "base_uri": "https://localhost:8080/",
          "height": 276
        }
      },
      "outputs": [
        {
          "output_type": "display_data",
          "data": {
            "image/png": "[encoded data removed]",
            "text/plain": [
              "<Figure size 432x288 with 1 Axes>"
            ]
          },
          "metadata": {}
        }
      ],
      "source": [
        "daily[['Total', 'predicted']].plot(alpha=0.5);"
      ]
    },
    {
      "cell_type": "markdown",
      "metadata": {
        "deletable": true,
        "editable": true,
        "id": "pJzeqWHyyBC7"
      },
      "source": [
        "Очевидно, что мы упустили некоторые ключевые особенности, особенно в летнее время.\n",
        "Либо наши характеристики неполны (т. е. люди решают, ехать ли им на работу, основываясь не только на них), либо существуют некоторые нелинейные отношения, которые мы не учли (например, люди меньше ездят как при высоких, так и при низких температурах). ).\n",
        "Тем не менее, нашего грубого приближения достаточно, чтобы дать нам некоторое представление, и мы можем взглянуть на коэффициенты линейной модели, чтобы оценить, какой вклад каждая функция вносит в ежедневное количество велосипедов:"
      ]
    },
    {
      "cell_type": "code",
      "execution_count": null,
      "metadata": {
        "deletable": true,
        "editable": true,
        "id": "x2vPFxt_yBC7",
        "outputId": "e112c6df-764e-4759-caf4-94cc84e94b7b",
        "colab": {
          "base_uri": "https://localhost:8080/"
        }
      },
      "outputs": [
        {
          "output_type": "execute_result",
          "data": {
            "text/plain": [
              "Mon                726.497873\n",
              "Tue               1398.926267\n",
              "Wed               1328.124464\n",
              "Thu                863.610314\n",
              "Fri               -230.704298\n",
              "Sat              -4671.005122\n",
              "Sun              -5017.067157\n",
              "holiday          -5207.718463\n",
              "daylight_hrs       334.142104\n",
              "PRCP           -659503.339106\n",
              "dry day           1838.922637\n",
              "Temp (C)          1540.276331\n",
              "annual            -560.542825\n",
              "dtype: float64"
            ]
          },
          "metadata": {},
          "execution_count": 29
        }
      ],
      "source": [
        "params = pd.Series(model.coef_, index=X.columns)\n",
        "params"
      ]
    },
    {
      "cell_type": "markdown",
      "metadata": {
        "deletable": true,
        "editable": true,
        "id": "1xXRktocyBC7"
      },
      "source": [
        "Эти числа трудно интерпретировать без некоторой меры их неопределенности.\n",
        "Мы можем быстро вычислить эти неопределенности, используя повторную выборку данных при начальной загрузке:"
      ]
    },
    {
      "cell_type": "code",
      "execution_count": null,
      "metadata": {
        "deletable": true,
        "editable": true,
        "id": "Pu6na-a7yBC7"
      },
      "outputs": [],
      "source": [
        "from sklearn.utils import resample\n",
        "np.random.seed(1)\n",
        "err = np.std([model.fit(*resample(X, y)).coef_\n",
        "              for i in range(1000)], 0)"
      ]
    },
    {
      "cell_type": "markdown",
      "metadata": {
        "deletable": true,
        "editable": true,
        "id": "IIpKEAEcyBC8"
      },
      "source": [
        "Оценив эти ошибки, давайте снова посмотрим на результаты:"
      ]
    },
    {
      "cell_type": "code",
      "execution_count": null,
      "metadata": {
        "deletable": true,
        "editable": true,
        "id": "I92GkQYnyBC8",
        "outputId": "dc79979d-f2f0-4c52-f73c-2b975c630804",
        "colab": {
          "base_uri": "https://localhost:8080/"
        }
      },
      "outputs": [
        {
          "output_type": "stream",
          "name": "stdout",
          "text": [
            "                effect    error\n",
            "Mon              726.0    390.0\n",
            "Tue             1399.0    401.0\n",
            "Wed             1328.0    392.0\n",
            "Thu              864.0    394.0\n",
            "Fri             -231.0    396.0\n",
            "Sat            -4671.0    398.0\n",
            "Sun            -5017.0    403.0\n",
            "holiday        -5208.0    589.0\n",
            "daylight_hrs     334.0     39.0\n",
            "PRCP         -659503.0  55846.0\n",
            "dry day         1839.0    143.0\n",
            "Temp (C)        1540.0     94.0\n",
            "annual          -561.0     26.0\n"
          ]
        }
      ],
      "source": [
        "print(pd.DataFrame({'effect': params.round(0),\n",
        "                    'error': err.round(0)}))"
      ]
    },
    {
      "cell_type": "markdown",
      "metadata": {
        "deletable": true,
        "editable": true,
        "id": "TfJbCK1DyBC8"
      },
      "source": [
        "Сначала мы видим относительно стабильную тенденцию в недельном базовом плане: в будни пассажиров гораздо больше, чем в выходные и праздничные дни.\n",
        "Мы видим, что на каждый дополнительный час дневного света едет на 129 ± 9 человек больше; повышение температуры на один градус Цельсия побуждает 65 ± 4 человек схватить свой велосипед; сухой день означает, что в среднем на 548 ± 33 больше велосипедистов, а каждый дюйм осадков означает, что еще 665 ± 62 человека оставляют свой велосипед дома.\n",
        "После того, как все эти эффекты будут учтены, мы увидим скромный прирост на 27 ± 18 новых ежедневных райдеров каждый год.\n",
        "\n",
        "В нашей модели почти наверняка отсутствует какая-то важная информация. Например, нелинейные эффекты (такие как влияние осадков и низкой температуры) и нелинейные тренды в пределах каждой переменной (например, нежелание ездить при очень низких и очень высоких температурах) не могут быть учтены в этой модели.\n",
        "Кроме того, мы отбросили некоторую более точную информацию (например, разницу между дождливым утром и дождливым днем) и проигнорировали корреляции между днями (например, возможное влияние дождливого вторника на показатели среды или эффект неожиданного солнечного дня после череды дождливых дней).\n",
        "Все это потенциально интересные эффекты, и теперь у вас есть инструменты, чтобы приступить к их изучению, если хотите!"
      ]
    }
  ],
  "metadata": {
    "anaconda-cloud": {},
    "kernelspec": {
      "display_name": "Python 3",
      "language": "python",
      "name": "python3"
    },
    "language_info": {
      "codemirror_mode": {
        "name": "ipython",
        "version": 3
      },
      "file_extension": ".py",
      "mimetype": "text/x-python",
      "name": "python",
      "nbconvert_exporter": "python",
      "pygments_lexer": "ipython3",
      "version": "3.5.1"
    },
    "colab": {
      "name": "Linear_Regression.ipynb",
      "provenance": [],
      "collapsed_sections": [
        "VxTP_aRtyBC5",
        "cgctR9FTyBC5"
      ]
    }
  },
  "nbformat": 4,
  "nbformat_minor": 0
}